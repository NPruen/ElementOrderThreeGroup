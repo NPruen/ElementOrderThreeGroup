{
 "cells": [
  {
   "cell_type": "code",
   "execution_count": 1,
   "metadata": {},
   "outputs": [],
   "source": [
    "# Jonas proposed the following group: <a,b | w^3=1 for all w in {a,b}*>.\n",
    "# That is, the group in which all non-trivial words have order three. (Here we say words, not elements, since in Z/3Z all \n",
    "# non-trivial elements haave order three aswell.)\n",
    "# Is this group infinite? I.e. are there arbitrarily long words/ elements of arbitrary distance (word metric) from 1?\n",
    "# This code aims to check for such words.\n",
    "# If we define the same group but for order 2 elements, the resulting group is isomorphic to \n",
    "# <a,b | a^2, b^2, (ab)^2> = Z/2Z x Z/2Z, i.e. it is finite."
   ]
  },
  {
   "cell_type": "code",
   "execution_count": 2,
   "metadata": {},
   "outputs": [
    {
     "name": "stdout",
     "output_type": "stream",
     "text": [
      "lo t\n"
     ]
    }
   ],
   "source": [
    "word = \"hello there\"\n",
    "print(word[3:7])"
   ]
  },
  {
   "cell_type": "code",
   "execution_count": 3,
   "metadata": {},
   "outputs": [],
   "source": [
    "# Check if a given word has a sequence that repeats thrice.\n",
    "\n",
    "def noPowerThree(w):\n",
    "    for seq_length in range(1, len(w)//3+1):\n",
    "        for start_index in range(0, len(w) - 3*seq_length+1):\n",
    "            a = w[start_index:start_index+seq_length]\n",
    "            b = w[start_index+seq_length:start_index+2*seq_length]\n",
    "            c = w[start_index+2*seq_length:start_index+3*seq_length]\n",
    "            #print(a + \"|\" + b + \"|\" + c)\n",
    "            if (a==b and a==c and b ==c):\n",
    "                return False\n",
    "    return True"
   ]
  },
  {
   "cell_type": "code",
   "execution_count": 21,
   "metadata": {},
   "outputs": [],
   "source": [
    "# Greedily adding generators, prefering a's to b's, and backtracking if necessary.\n",
    "# w is the current word. Backtrack to last instance of a, delete all following b's.\n",
    "\n",
    "def add_generator(w):\n",
    "    #print(w)\n",
    "    if(len(w) >= 400):\n",
    "        return w\n",
    "    if noPowerThree(w + \"a\"):\n",
    "        return(add_generator(w + \"a\"))\n",
    "    elif noPowerThree(w + \"b\"):\n",
    "        return(add_generator(w + \"b\"))\n",
    "    else:\n",
    "        i = len(w)-1\n",
    "        while(w[i] == \"b\"):\n",
    "            w = w[:-1]\n",
    "            i = i-1\n",
    "            if i == 0:\n",
    "                print(\"i=0\")\n",
    "                break\n",
    "        w = w[:-1]\n",
    "        w += \"b\"\n",
    "        return(add_generator(w))"
   ]
  },
  {
   "cell_type": "code",
   "execution_count": 22,
   "metadata": {
    "scrolled": true
   },
   "outputs": [
    {
     "name": "stdout",
     "output_type": "stream",
     "text": [
      "aabaababaabaabbaabaababaabaabbaabaababaababbaabaababaabaabbaabaababaabaabbaabaababaabbaabaababaabaabbaabaababaabaabbaabaababbaabaababaabaabbaabaababaabaabbaabaababaabbaabaababaabaabbaabaababaabaabbaabaababbaabaababaabaabbaabaababaabaabbaabaababaabbaabaababaabaabbaabaababaababbaabaababaabaabbaabaababaabaabbaabaababaabbaabaababaabaabbaabaababaabaabbaabaababbaabaababaabaabbaabaababaabaabbaabaababaabb\n",
      "1.4539877300613497\n"
     ]
    }
   ],
   "source": [
    "def count(letter, w):\n",
    "    c = 0\n",
    "    for l in w:\n",
    "        if l == letter:\n",
    "            c += 1\n",
    "    return c\n",
    "\n",
    "word = add_generator(\"\")\n",
    "print(word)\n",
    "\n",
    "print(str(count(\"a\", word) / count(\"b\", word)))"
   ]
  },
  {
   "cell_type": "code",
   "execution_count": null,
   "metadata": {},
   "outputs": [],
   "source": []
  }
 ],
 "metadata": {
  "kernelspec": {
   "display_name": "Python 3",
   "language": "python",
   "name": "python3"
  },
  "language_info": {
   "codemirror_mode": {
    "name": "ipython",
    "version": 3
   },
   "file_extension": ".py",
   "mimetype": "text/x-python",
   "name": "python",
   "nbconvert_exporter": "python",
   "pygments_lexer": "ipython3",
   "version": "3.8.3"
  }
 },
 "nbformat": 4,
 "nbformat_minor": 4
}
